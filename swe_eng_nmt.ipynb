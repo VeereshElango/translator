{
  "nbformat": 4,
  "nbformat_minor": 0,
  "metadata": {
    "colab": {
      "name": "swe_eng_nmt.ipynb",
      "version": "0.3.2",
      "provenance": [],
      "include_colab_link": true
    },
    "kernelspec": {
      "name": "python3",
      "display_name": "Python 3"
    },
    "accelerator": "GPU"
  },
  "cells": [
    {
      "cell_type": "markdown",
      "metadata": {
        "id": "view-in-github",
        "colab_type": "text"
      },
      "source": [
        "[View in Colaboratory](https://colab.research.google.com/github/VeereshElango/translator/blob/master/swe_eng_nmt.ipynb)"
      ]
    },
    {
      "metadata": {
        "id": "VJHTvxTvwZpi",
        "colab_type": "code",
        "colab": {
          "base_uri": "https://localhost:8080/",
          "height": 34
        },
        "outputId": "13e90777-92e9-46e4-9aed-28884343534a"
      },
      "cell_type": "code",
      "source": [
        "from __future__ import absolute_import, division, print_function\n",
        "\n",
        "# Import TensorFlow >= 1.10 and enable eager execution\n",
        "import tensorflow as tf\n",
        "\n",
        "tf.enable_eager_execution()\n",
        "\n",
        "import matplotlib.pyplot as plt\n",
        "from sklearn.model_selection import train_test_split\n",
        "\n",
        "import unicodedata\n",
        "import re\n",
        "import numpy as np\n",
        "import os\n",
        "import time\n",
        "\n",
        "print(tf.__version__)"
      ],
      "execution_count": 1,
      "outputs": [
        {
          "output_type": "stream",
          "text": [
            "1.10.1\n"
          ],
          "name": "stdout"
        }
      ]
    },
    {
      "metadata": {
        "id": "AIVI0eYWwjvA",
        "colab_type": "code",
        "colab": {
          "base_uri": "https://localhost:8080/",
          "height": 34
        },
        "outputId": "a65cefc5-b6db-4d96-ce31-879e277b7d62"
      },
      "cell_type": "code",
      "source": [
        "import requests\n",
        "import zipfile\n",
        "# Download the file\n",
        "def get_data( url, directory ):\n",
        "  if not os.path.exists(directory):\n",
        "      os.makedirs(directory)\n",
        "      filename = url.split(\"/\")[-1]\n",
        "      with open(directory+filename, \"wb\") as f:\n",
        "        r = requests.get(url)\n",
        "        f.write(r.content)\n",
        "      print(\"File downloaded :\",directory+filename)\n",
        "      extract(directory+filename, directory)\n",
        "  else:\n",
        "    print(\"Data exists\")\n",
        "def extract(path, directory_to_extract_to):\n",
        "  zip_ref = zipfile.ZipFile(path, 'r')\n",
        "  zip_ref.extractall(directory_to_extract_to)\n",
        "  zip_ref.close()\n",
        "get_data(\"http://www.manythings.org/anki/swe-eng.zip\",\"./data/\")\n",
        "path_to_file = \"./data/swe.txt\""
      ],
      "execution_count": 2,
      "outputs": [
        {
          "output_type": "stream",
          "text": [
            "File downloaded : ./data/swe-eng.zip\n"
          ],
          "name": "stdout"
        }
      ]
    },
    {
      "metadata": {
        "id": "VvZLONeTw2Pb",
        "colab_type": "code",
        "colab": {}
      },
      "cell_type": "code",
      "source": [
        "! cd data"
      ],
      "execution_count": 0,
      "outputs": []
    },
    {
      "metadata": {
        "id": "dNDIE0axxACd",
        "colab_type": "code",
        "colab": {
          "base_uri": "https://localhost:8080/",
          "height": 68
        },
        "outputId": "c5cce20c-b83b-436b-caa4-82a0a9c85fb3"
      },
      "cell_type": "code",
      "source": [
        "for i in os.listdir(\"./data\"):\n",
        "  print(i)"
      ],
      "execution_count": 5,
      "outputs": [
        {
          "output_type": "stream",
          "text": [
            "swe.txt\n",
            "swe-eng.zip\n",
            "_about.txt\n"
          ],
          "name": "stdout"
        }
      ]
    },
    {
      "metadata": {
        "id": "QgK96vUIxNZJ",
        "colab_type": "code",
        "colab": {
          "base_uri": "https://localhost:8080/",
          "height": 187
        },
        "outputId": "2f5c263c-3d68-47c5-e4bb-978573b41e40"
      },
      "cell_type": "code",
      "source": [
        "import random\n",
        "with open('./data/swe.txt') as f:\n",
        "  all_lines = f.readlines()\n",
        "  print(\"Total Lines : \",len(all_lines))\n",
        "  print()\n",
        "  print(\"3 Samples\\n\")\n",
        "  for i in random.sample(range(1, len(all_lines)), 3):\n",
        "    print(all_lines[i])"
      ],
      "execution_count": 13,
      "outputs": [
        {
          "output_type": "stream",
          "text": [
            "Total Lines :  17300\n",
            "\n",
            "3 Samples\n",
            "\n",
            "Now just hold on a minute.\tVänta lite nu.\n",
            "\n",
            "I'll get my coat.\tJag ska ta min jacka.\n",
            "\n",
            "I'm almost sure of it.\tJag är nästan säker på det.\n",
            "\n"
          ],
          "name": "stdout"
        }
      ]
    },
    {
      "metadata": {
        "id": "3ZUi2vFUxWek",
        "colab_type": "code",
        "colab": {}
      },
      "cell_type": "code",
      "source": [
        ""
      ],
      "execution_count": 0,
      "outputs": []
    }
  ]
}